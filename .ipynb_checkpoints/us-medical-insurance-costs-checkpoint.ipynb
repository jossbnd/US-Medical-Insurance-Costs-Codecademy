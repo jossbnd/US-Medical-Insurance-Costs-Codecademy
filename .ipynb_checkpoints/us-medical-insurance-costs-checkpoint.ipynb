{
 "cells": [
  {
   "cell_type": "markdown",
   "metadata": {},
   "source": [
    "# U.S. Medical Insurance Costs"
   ]
  },
  {
   "cell_type": "markdown",
   "metadata": {},
   "source": [
    "# 1. Introduction\n",
    "\n",
    "In this project, a U.S. medical insurance dataset will be investigated with learnings that has been made through the Python Fundamentals course from Codecademy.\n",
    "\n",
    "The set of data is a .csv file made of 7 columns. 6 row gives characteristics of patient (age, sex, bmi, children, smoker, region) and the seventh row their insurance cost.\n",
    "Informations are a mix of strings, integers or floats and for a total of 1338 patient."
   ]
  },
  {
   "cell_type": "markdown",
   "metadata": {},
   "source": [
    "# 2. Projects Goals\n",
    "\n",
    "The goal of this project is to analyze the data through the 3 following topic:\n",
    "\n",
    "    1. Know your patient : analyze the characteristics themselves such as average age, region, average bmi etc...\n",
    "    2. Impact of certain characteristic on their Insurance Cost : how much more will pay a smoker, how age impact cost...\n",
    "    3. Estimate the cost for a new patient : from information we have, how can we estimate our own insurance cost\n",
    "    \n",
    "Firstly, datas need to be imported and transformed into Python objects."
   ]
  },
  {
   "cell_type": "markdown",
   "metadata": {},
   "source": [
    "# 3. Import data\n",
    "\n",
    "The datas are imported and save into a List."
   ]
  },
  {
   "cell_type": "code",
   "execution_count": 128,
   "metadata": {},
   "outputs": [
    {
     "name": "stdout",
     "output_type": "stream",
     "text": [
      "[{'age': '19', 'sex': 'female', 'bmi': '27.9', 'children': '0', 'smoker': 'yes', 'region': 'southwest', 'charges': '16884.924'}, {'age': '18', 'sex': 'male', 'bmi': '33.77', 'children': '1', 'smoker': 'no', 'region': 'southeast', 'charges': '1725.5523'}, {'age': '28', 'sex': 'male', 'bmi': '33', 'children': '3', 'smoker': 'no', 'region': 'southeast', 'charges': '4449.462'}]\n",
      "...\n"
     ]
    }
   ],
   "source": [
    "import csv\n",
    "\n",
    "with open(\"insurance.csv\") as insurance_csv:\n",
    "    insurance_data = []\n",
    "    insurance_reader = csv.DictReader(insurance_csv)\n",
    "    for row in insurance_reader:\n",
    "        insurance_data.append(row)\n",
    "\n",
    "print(insurance_data[:3])\n",
    "print(\"...\")"
   ]
  },
  {
   "cell_type": "markdown",
   "metadata": {},
   "source": [
    "insurance_data is a list of dict. \n",
    "Each element of the list is a line of the .csv file. They are described by a dictionnary in which keys are the names of the column.\n",
    "Now, it is very easy to access data we need for our analysis.\n",
    "\n",
    "Here is an example:"
   ]
  },
  {
   "cell_type": "code",
   "execution_count": 9,
   "metadata": {},
   "outputs": [],
   "source": [
    "#example if we want to access all the ages and save them in a list.\n",
    "age_list = []\n",
    "for line in insurance_data:\n",
    "    age_list.append(line[\"age\"])\n"
   ]
  },
  {
   "cell_type": "markdown",
   "metadata": {},
   "source": [
    "This could be helpful to have a function that put every value of a column of the .csv in a list."
   ]
  },
  {
   "cell_type": "code",
   "execution_count": 121,
   "metadata": {},
   "outputs": [
    {
     "name": "stdout",
     "output_type": "stream",
     "text": [
      "Here is the list of columns to use as parameter of our make_a_list_from_column: age,sex,bmi,children,smoker,region,charges\n",
      "\n"
     ]
    }
   ],
   "source": [
    "def make_a_list_from_column(name_of_column):\n",
    "    list_of_column_values = []\n",
    "    for line in insurance_data:\n",
    "#as we would like to have it in float if they are numbers, we will use try instruction\n",
    "        try:\n",
    "            list_of_column_values.append(float(line[name_of_column]))\n",
    "        except:\n",
    "            list_of_column_values.append(line[name_of_column])\n",
    "    return list_of_column_values\n",
    "\n",
    "#list of names of column available\n",
    "with open(\"insurance.csv\") as insurance_csv:\n",
    "    print(\"Here is the list of columns to use as parameter of our make_a_list_from_column: \" + insurance_csv.readline())"
   ]
  },
  {
   "cell_type": "markdown",
   "metadata": {},
   "source": [
    "Let's try our function:"
   ]
  },
  {
   "cell_type": "code",
   "execution_count": 127,
   "metadata": {},
   "outputs": [
    {
     "name": "stdout",
     "output_type": "stream",
     "text": [
      "[16884.924, 1725.5523, 4449.462, 21984.47061, 3866.8552, 3756.6216, 8240.5896, 7281.5056, 6406.4107, 28923.13692, 2721.3208, 27808.7251, 1826.843, 11090.7178, 39611.7577, 1837.237, 10797.3362, 2395.17155, 10602.385, 36837.467, 13228.84695, 4149.736, 1137.011, 37701.8768, 6203.90175, 14001.1338, 14451.83515, 12268.63225, 2775.19215, 38711.0, 35585.576, 2198.18985, 4687.797, 13770.0979, 51194.55914, 1625.43375, 15612.19335, 2302.3, 39774.2763, 48173.361, 3046.062, 4949.7587, 6272.4772, 6313.759, 6079.6715, 20630.28351, 3393.35635, 3556.9223, 12629.8967, 38709.176, 2211.13075, 3579.8287, 23568.272, 37742.5757, 8059.6791, 47496.49445, 13607.36875, 34303.1672, 23244.7902, 5989.52365, 8606.2174, 4504.6624, 30166.61817, 4133.64165, 14711.7438, 1743.214, 14235.072, 6389.37785, 5920.1041, 17663.1442, 16577.7795, 6799.458, 11741.726, 11946.6259, 7726.854, 11356.6609, 3947.4131, 1532.4697, 2755.02095, 6571.02435, 4441.21315, 7935.29115, 37165.1638, 11033.6617, 39836.519, 21098.55405, 43578.9394, 11073.176, 8026.6666, 11082.5772, 2026.9741, 10942.13205, 30184.9367, 5729.0053, 47291.055, 3766.8838, 12105.32, 10226.2842, 22412.6485, 15820.699]\n",
      "...\n"
     ]
    }
   ],
   "source": [
    "bmi_list = make_a_list_from_column(\"charges\")\n",
    "print(bmi_list[:100])\n",
    "print(\"...\")"
   ]
  },
  {
   "cell_type": "markdown",
   "metadata": {},
   "source": [
    "# 4. Analysis\n",
    "## 4.1. Know your patient\n",
    "\n",
    "Datas are imported and stored in variables that can be used for analysis.\n",
    "\n",
    "The first step is to have a look to the age of our patient:"
   ]
  },
  {
   "cell_type": "code",
   "execution_count": 75,
   "metadata": {},
   "outputs": [
    {
     "name": "stdout",
     "output_type": "stream",
     "text": [
      "The average age of our patients is: 39.2 years old.\n",
      "There are 574 patients between 18 and 35 years old and it represents 42.9% of our total of patient.\n"
     ]
    }
   ],
   "source": [
    "import statistics\n",
    "\n",
    "# average age of our patient\n",
    "age_list = make_a_list_from_column(\"age\")\n",
    "print(\"The average age of our patients is: {} years old.\".format(round(statistics.mean(age_list),1)))\n",
    "\n",
    "# function to know how many patient between 2 ages and what they represent on total\n",
    "def how_many_between(age_min, age_max):\n",
    "    age_count = 0\n",
    "    for age in age_list:\n",
    "        if age >= age_min and age <= age_max:\n",
    "            age_count += 1\n",
    "    percent = age_count / len(age_list) * 100\n",
    "    return \"There are {} patients between {} and {} years old and it represents {}% of our total of patient.\".format(age_count, age_min, age_max, round(percent,2))\n",
    "                                                                                                                     \n",
    "print(how_many_between(18, 35))\n"
   ]
  },
  {
   "cell_type": "markdown",
   "metadata": {},
   "source": [
    "It will be interested to know where they live as well."
   ]
  },
  {
   "cell_type": "code",
   "execution_count": 80,
   "metadata": {},
   "outputs": [
    {
     "name": "stdout",
     "output_type": "stream",
     "text": [
      "Here are the number of patient per region : {'northwest': 325, 'northeast': 324, 'southeast': 364, 'southwest': 325}\n"
     ]
    }
   ],
   "source": [
    "#we can store population per region in a dictionnary\n",
    "region_population = {\n",
    "    \"northwest\": 0,\n",
    "    \"northeast\": 0,\n",
    "    \"southeast\": 0,\n",
    "    \"southwest\": 0,\n",
    "    }\n",
    "\n",
    "for key in region_population.keys():\n",
    "    region_population[key] = make_a_list_from_column(\"region\").count(key)\n",
    "\n",
    "print(\"Here are the number of patient per region : {}\".format(region_population))\n"
   ]
  },
  {
   "cell_type": "raw",
   "metadata": {},
   "source": [
    "Other analysis could be done with other parameters such as bmi, number of children.\n",
    "Next step is to have a look to how these parameters impact the charges."
   ]
  },
  {
   "cell_type": "markdown",
   "metadata": {},
   "source": [
    "## 4.2. Impact of patient characteristics on charges\n",
    "\n",
    "THis part of the analysis will check how certain charateristics impact the patient's medical insurance cost, such as if the patient smoke or not."
   ]
  },
  {
   "cell_type": "code",
   "execution_count": 93,
   "metadata": {},
   "outputs": [
    {
     "name": "stdout",
     "output_type": "stream",
     "text": [
      "The average insurance cost for smokers are : 32050.23 dollars\n",
      "The average insurance cost for non smokers are : 8434.27 dollars\n"
     ]
    }
   ],
   "source": [
    "#average cost for smokers versus non smokers\n",
    "costs_smokers = []\n",
    "costs_non_smokers = []\n",
    "\n",
    "for line in insurance_data:\n",
    "    if line[\"smoker\"] == \"yes\":\n",
    "        costs_smokers.append(float(line[\"charges\"]))\n",
    "    else: \n",
    "        costs_non_smokers.append(float((line[\"charges\"])))\n",
    "                                 \n",
    "print(\"The average insurance cost for smokers are : {} dollars\".format(round(statistics.mean(costs_smokers),2)))\n",
    "print(\"The average insurance cost for non smokers are : {} dollars\".format(round(statistics.mean(costs_non_smokers),2)))\n",
    "\n",
    "        \n"
   ]
  },
  {
   "cell_type": "markdown",
   "metadata": {},
   "source": [
    "Even if other parameters counted in this analaysis, it appears that smoking makes the insurance cost higher than non smoking.\n",
    "How about bmi ?"
   ]
  },
  {
   "cell_type": "code",
   "execution_count": 105,
   "metadata": {},
   "outputs": [
    {
     "name": "stdout",
     "output_type": "stream",
     "text": [
      "Average insurance cost of patient above 16 of bmi is 13279.1 dollars\n",
      "Average insurance cost of patient above 22 of bmi is 13606.7 dollars\n",
      "Average insurance cost of patient above 28 of bmi is 14642.5 dollars\n",
      "Average insurance cost of patient above 35 of bmi is 16953.8 dollars\n"
     ]
    }
   ],
   "source": [
    "# here is a function that calculate average charges for patient above a certain bmi\n",
    "def average_cost_above_bmi(bmi_min):\n",
    "    costs_at_bmi_min = []\n",
    "    for line in insurance_data:\n",
    "        if float(line[\"bmi\"]) >= bmi_min:\n",
    "            costs_at_bmi_min.append(float(line[\"charges\"]))\n",
    "    return \"Average insurance cost of patient above {} of bmi is {} dollars\".format(bmi_min, round(statistics.mean(costs_at_bmi_min), 1))\n",
    "\n",
    "print(average_cost_above_bmi(16))\n",
    "print(average_cost_above_bmi(22))\n",
    "print(average_cost_above_bmi(28))\n",
    "print(average_cost_above_bmi(35))\n"
   ]
  },
  {
   "cell_type": "markdown",
   "metadata": {},
   "source": [
    "The higher the bmi the higher the insurance cost but it sounds to be less impactful than smoking.\n",
    "\n",
    "So probably the patient with the higher cost should be a smoker with a high bmi. What other characteristics could he or she have ?"
   ]
  },
  {
   "cell_type": "code",
   "execution_count": 120,
   "metadata": {},
   "outputs": [
    {
     "name": "stdout",
     "output_type": "stream",
     "text": [
      "Here is the characteristic of the patient with the higher insurance cost: \n",
      "{'age': '54', 'sex': 'female', 'bmi': '47.41', 'children': '0', 'smoker': 'yes', 'region': 'southeast', 'charges': '63770.42801'}\n"
     ]
    }
   ],
   "source": [
    "# find the patient with the higher cost and have a look to his/her characteristics\n",
    "\n",
    "max_cost = max(make_a_list_from_column(\"charges\"))\n",
    "\n",
    "for line in insurance_data:\n",
    "    if float(line[\"charges\"]) == max_cost:\n",
    "        print(\"Here is the characteristic of the patient with the higher insurance cost: \\n{}\".format(line))\n"
   ]
  },
  {
   "cell_type": "markdown",
   "metadata": {},
   "source": [
    "Here was some example of how some characteristics can impact the insurance cost.\n",
    "It would be interesting to know how to predict what is the price increase if one of my characteristic change. \n",
    "For example if a patient quit smoking, how much will his or her insurance cost decrease ?"
   ]
  },
  {
   "cell_type": "markdown",
   "metadata": {},
   "source": [
    "## 4.3. Estimate the cost for a new patient\n",
    "\n",
    "From the data set, it might be posible to establish the model to calculate insurance charges.\n",
    "Linear regression can be used for that.\n",
    "\n",
    "Mathematically insurance cost would look like the following:\n",
    "$$Insurancecost(x_1, x_2, x_3, x_4, x_6, x_7) = a_0 + a_1*x_1 + a_2*x_2 + a_3*x_3 + a_4*x_4 + a_5*x_5 + a_6*x_6 $$\n",
    "\n",
    "Where $x_n$ are characteristics such as age, bmi, smoker... and $a_n$ the slopes to find out.\n",
    "\n"
   ]
  },
  {
   "cell_type": "markdown",
   "metadata": {},
   "source": [
    "*note of 05 june 2021 : apparently I need to learn more to perform this ;p - let's continue the course and come back later to this project*"
   ]
  }
 ],
 "metadata": {
  "kernelspec": {
   "display_name": "Python 3",
   "language": "python",
   "name": "python3"
  },
  "language_info": {
   "codemirror_mode": {
    "name": "ipython",
    "version": 3
   },
   "file_extension": ".py",
   "mimetype": "text/x-python",
   "name": "python",
   "nbconvert_exporter": "python",
   "pygments_lexer": "ipython3",
   "version": "3.8.8"
  }
 },
 "nbformat": 4,
 "nbformat_minor": 4
}
