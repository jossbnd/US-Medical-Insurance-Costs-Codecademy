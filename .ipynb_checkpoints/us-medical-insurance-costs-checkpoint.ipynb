{
 "cells": [
  {
   "cell_type": "markdown",
   "metadata": {},
   "source": [
    "# U.S. Medical Insurance Costs"
   ]
  },
  {
   "cell_type": "markdown",
   "metadata": {},
   "source": [
    "# 1. Introduction\n",
    "\n",
    "In this project, a U.S. medical insurance dataset will be investigated with learnings that has been made through the Python Fundamentals course from Codecademy.\n",
    "\n",
    "The set of data is a .csv file made of 7 columns. 6 row gives characteristics of patient (age, sex, bmi, children, smoker, region) and the seventh row their insurance cost.\n",
    "Informations are a mix of strings, integers or floats and for a total of 1338 patients."
   ]
  },
  {
   "cell_type": "markdown",
   "metadata": {},
   "source": [
    "# 2. Projects Goals\n",
    "\n",
    "There is no specific guidelines given by Codecademy in this exercise.\n",
    "\n",
    "I propose to analyze the data through the 3 following topics:\n",
    "\n",
    "    1. Know your patient : analyze the characteristics such as average age, region, average bmi etc...\n",
    "    2. Impact of certain characteristics on the Insurance Cost : how much more will pay a smoker, how age impact cost...\n",
    "    3. Estimate the cost for a new patient : from information at disposal, is it possible to estimate our own insurance cost\n",
    "    \n",
    "Firstly, datas need to be imported and transformed into Python objects."
   ]
  },
  {
   "cell_type": "markdown",
   "metadata": {},
   "source": [
    "# 3. Import data\n",
    "\n",
    "The datas are imported and save into a List."
   ]
  },
  {
   "cell_type": "code",
   "execution_count": 9,
   "metadata": {},
   "outputs": [
    {
     "name": "stdout",
     "output_type": "stream",
     "text": [
      "[{'age': '19', 'sex': 'female', 'bmi': '27.9', 'children': '0', 'smoker': 'yes', 'region': 'southwest', 'charges': '16884.924'}, {'age': '18', 'sex': 'male', 'bmi': '33.77', 'children': '1', 'smoker': 'no', 'region': 'southeast', 'charges': '1725.5523'}, {'age': '28', 'sex': 'male', 'bmi': '33', 'children': '3', 'smoker': 'no', 'region': 'southeast', 'charges': '4449.462'}]\n",
      "...\n"
     ]
    }
   ],
   "source": [
    "import csv\n",
    "\n",
    "with open(\"insurance.csv\") as insurance_csv:\n",
    "    insurance_data = []\n",
    "    insurance_reader = csv.DictReader(insurance_csv)\n",
    "    for row in insurance_reader:\n",
    "        insurance_data.append(row)\n",
    "\n",
    "print(insurance_data[:3])\n",
    "print(\"...\")"
   ]
  },
  {
   "cell_type": "markdown",
   "metadata": {},
   "source": [
    "insurance_data is a list of dictionaries. \n",
    "Each element of the list is a line of the .csv file. Each line is described by a dictionnary in which keys are the names of the column.\n",
    "Now, it is very easy to access data we need for our analysis.\n",
    "\n",
    "Here is an example:"
   ]
  },
  {
   "cell_type": "code",
   "execution_count": 4,
   "metadata": {},
   "outputs": [
    {
     "name": "stdout",
     "output_type": "stream",
     "text": [
      "['19', '18', '28', '33', '32', '31', '46', '37', '37', '60', '25', '62', '23', '56', '27', '19', '52', '23', '56', '30']\n",
      "...\n"
     ]
    }
   ],
   "source": [
    "#example if we want to access all the ages and save them in a list.\n",
    "age_list = []\n",
    "for line in insurance_data:\n",
    "    age_list.append(line[\"age\"])\n",
    "\n",
    "print(age_list[:20])\n",
    "print(\"...\")"
   ]
  },
  {
   "cell_type": "markdown",
   "metadata": {},
   "source": [
    "This could be helpful to have a function to do the same for each column."
   ]
  },
  {
   "cell_type": "code",
   "execution_count": 5,
   "metadata": {},
   "outputs": [
    {
     "name": "stdout",
     "output_type": "stream",
     "text": [
      "Here is the list of columns to use as parameter of our make_a_list_from_column: age,sex,bmi,children,smoker,region,charges\n",
      "\n"
     ]
    }
   ],
   "source": [
    "def make_a_list_from_column(name_of_column):\n",
    "    list_of_column_values = []\n",
    "    for line in insurance_data:\n",
    "#as it would be easier to have it in float if they are numbers, we will use try instruction\n",
    "        try:\n",
    "            list_of_column_values.append(float(line[name_of_column]))\n",
    "        except:\n",
    "            list_of_column_values.append(line[name_of_column])\n",
    "    return list_of_column_values\n",
    "\n",
    "#list of names of column available\n",
    "with open(\"insurance.csv\") as insurance_csv:\n",
    "    print(\"Here is the list of columns to use as parameter of our make_a_list_from_column: \" + insurance_csv.readline())"
   ]
  },
  {
   "cell_type": "markdown",
   "metadata": {},
   "source": [
    "Let's try our function:"
   ]
  },
  {
   "cell_type": "code",
   "execution_count": 20,
   "metadata": {},
   "outputs": [
    {
     "name": "stdout",
     "output_type": "stream",
     "text": [
      "[27.9, 33.77, 33.0, 22.705, 28.88, 25.74, 33.44, 27.74, 29.83, 25.84, 26.22, 26.29, 34.4, 39.82, 42.13, 24.6, 30.78, 23.845, 40.3, 35.3, 36.005, 32.4, 34.1, 31.92, 28.025, 27.72, 23.085, 32.775, 17.385, 36.3, 35.6, 26.315, 28.6, 28.31, 36.4, 20.425, 32.965, 20.8, 36.67, 39.9, 26.6, 36.63, 21.78, 30.8, 37.05, 37.3, 38.665, 34.77, 24.53, 35.2, 35.625, 33.63, 28.0, 34.43, 28.69, 36.955, 31.825, 31.68, 22.88, 37.335, 27.36, 33.66, 24.7, 25.935, 22.42, 28.9, 39.1, 26.315, 36.19, 23.98, 24.75, 28.5, 28.1, 32.01, 27.4, 34.01, 29.59, 35.53, 39.805, 32.965, 26.885, 38.285, 37.62, 41.23, 34.8, 22.895, 31.16, 27.2, 27.74, 26.98, 39.49, 24.795, 29.83, 34.77, 31.3, 37.62, 30.8, 38.28, 19.95, 19.3]\n",
      "...\n"
     ]
    }
   ],
   "source": [
    "bmi_list = make_a_list_from_column(\"bmi\")\n",
    "print(bmi_list[:100])\n",
    "print(\"...\")"
   ]
  },
  {
   "cell_type": "markdown",
   "metadata": {},
   "source": [
    "# 4. Analysis\n",
    "## 4.1. Know your patient\n",
    "\n",
    "Datas are imported and stored in variables that can be used for analysis.\n",
    "\n",
    "The first step is to have a look to the age of patients:"
   ]
  },
  {
   "cell_type": "code",
   "execution_count": 14,
   "metadata": {},
   "outputs": [
    {
     "name": "stdout",
     "output_type": "stream",
     "text": [
      "The average age of our patients is: 39.2 years old.\n",
      "There are 574 patients between 18 and 35 years old and it represents 42.9% of our total of patient.\n",
      "There are 433 patients between 35 and 50 years old and it represents 32.36% of our total of patient.\n"
     ]
    }
   ],
   "source": [
    "import statistics\n",
    "\n",
    "# average age of our patient\n",
    "age_list = make_a_list_from_column(\"age\")\n",
    "print(\"The average age of our patients is: {} years old.\".format(round(statistics.mean(age_list),1)))\n",
    "\n",
    "# function to know how many patient between 2 ages and what they represent on total\n",
    "def how_many_between(age_min, age_max):\n",
    "    age_count = 0\n",
    "    for age in age_list:\n",
    "        if age >= age_min and age <= age_max:\n",
    "            age_count += 1\n",
    "    percent = age_count / len(age_list) * 100\n",
    "    return \"There are {} patients between {} and {} years old and it represents {}% of our total of patient.\".format(age_count, age_min, age_max, round(percent,2))\n",
    "                                                                                                                     \n",
    "print(how_many_between(18, 35))\n",
    "print(how_many_between(35, 50))\n"
   ]
  },
  {
   "cell_type": "markdown",
   "metadata": {},
   "source": [
    "It will be interested to know where they live as well."
   ]
  },
  {
   "cell_type": "code",
   "execution_count": 21,
   "metadata": {},
   "outputs": [
    {
     "name": "stdout",
     "output_type": "stream",
     "text": [
      "Here are the unique regions in the dataset : ['southwest', 'southeast', 'northwest', 'northeast']\n",
      "Here are the number of patient per region : {'northwest': 325, 'northeast': 324, 'southeast': 364, 'southwest': 325}\n"
     ]
    }
   ],
   "source": [
    "#count how many unique region\n",
    "regions_unique = []\n",
    "region_list = make_a_list_from_column(\"region\")\n",
    "\n",
    "for region in region_list:\n",
    "    if region in regions_unique:\n",
    "        continue\n",
    "    else:\n",
    "        regions_unique.append(region)\n",
    "\n",
    "print(\"Here are the unique regions in the dataset : {}\".format(regions_unique))\n",
    "\n",
    "\n",
    "#we can store population per region in a dictionnary\n",
    "region_population = {\n",
    "    \"northwest\": 0,\n",
    "    \"northeast\": 0,\n",
    "    \"southeast\": 0,\n",
    "    \"southwest\": 0,\n",
    "    }\n",
    "\n",
    "for key in region_population.keys():\n",
    "    region_population[key] = make_a_list_from_column(\"region\").count(key)\n",
    "\n",
    "print(\"Here are the number of patient per region : {}\".format(region_population))\n"
   ]
  },
  {
   "cell_type": "raw",
   "metadata": {},
   "source": [
    "Other analysis could be done with other parameters such as bmi, number of children etc...\n",
    "Next step is to have a look to how these parameters impact the charges."
   ]
  },
  {
   "cell_type": "markdown",
   "metadata": {},
   "source": [
    "## 4.2. Impact of patient characteristics on charges\n",
    "\n",
    "This part of the analysis will check how certain charateristics impact the patient's medical insurance cost, such as if the patient smoke or not."
   ]
  },
  {
   "cell_type": "code",
   "execution_count": 93,
   "metadata": {},
   "outputs": [
    {
     "name": "stdout",
     "output_type": "stream",
     "text": [
      "The average insurance cost for smokers are : 32050.23 dollars\n",
      "The average insurance cost for non smokers are : 8434.27 dollars\n"
     ]
    }
   ],
   "source": [
    "#average cost for smokers versus non smokers\n",
    "costs_smokers = []\n",
    "costs_non_smokers = []\n",
    "\n",
    "for line in insurance_data:\n",
    "    if line[\"smoker\"] == \"yes\":\n",
    "        costs_smokers.append(float(line[\"charges\"]))\n",
    "    else: \n",
    "        costs_non_smokers.append(float((line[\"charges\"])))\n",
    "                                 \n",
    "print(\"The average insurance cost for smokers are : {} dollars\".format(round(statistics.mean(costs_smokers),2)))\n",
    "print(\"The average insurance cost for non smokers are : {} dollars\".format(round(statistics.mean(costs_non_smokers),2)))\n",
    "\n",
    "        \n"
   ]
  },
  {
   "cell_type": "markdown",
   "metadata": {},
   "source": [
    "Even if other parameters count in this analaysis, it appears that smoking makes the insurance cost higher than non smoking.\n",
    "How about bmi ?"
   ]
  },
  {
   "cell_type": "code",
   "execution_count": 105,
   "metadata": {},
   "outputs": [
    {
     "name": "stdout",
     "output_type": "stream",
     "text": [
      "Average insurance cost of patient above 16 of bmi is 13279.1 dollars\n",
      "Average insurance cost of patient above 22 of bmi is 13606.7 dollars\n",
      "Average insurance cost of patient above 28 of bmi is 14642.5 dollars\n",
      "Average insurance cost of patient above 35 of bmi is 16953.8 dollars\n"
     ]
    }
   ],
   "source": [
    "# here is a function that calculate average charges for patient above a certain bmi\n",
    "def average_cost_above_bmi(bmi_min):\n",
    "    costs_at_bmi_min = []\n",
    "    for line in insurance_data:\n",
    "        if float(line[\"bmi\"]) >= bmi_min:\n",
    "            costs_at_bmi_min.append(float(line[\"charges\"]))\n",
    "    return \"Average insurance cost of patient above {} of bmi is {} dollars\".format(bmi_min, round(statistics.mean(costs_at_bmi_min), 1))\n",
    "\n",
    "print(average_cost_above_bmi(16))\n",
    "print(average_cost_above_bmi(22))\n",
    "print(average_cost_above_bmi(28))\n",
    "print(average_cost_above_bmi(35))\n"
   ]
  },
  {
   "cell_type": "markdown",
   "metadata": {},
   "source": [
    "The higher the bmi the higher the insurance cost but it sounds to be less impactful than smoking.\n",
    "\n",
    "So probably the patient with the higher cost should be a smoker with a high bmi. What other characteristics could he or she have ?"
   ]
  },
  {
   "cell_type": "code",
   "execution_count": 23,
   "metadata": {
    "scrolled": true
   },
   "outputs": [
    {
     "name": "stdout",
     "output_type": "stream",
     "text": [
      "Here is the characteristic of the patient with the higher insurance cost: \n",
      "{'age': '54', 'sex': 'female', 'bmi': '47.41', 'children': '0', 'smoker': 'yes', 'region': 'southeast', 'charges': '63770.42801'}\n"
     ]
    }
   ],
   "source": [
    "# find the patient with the higher cost and have a look to his/her characteristics\n",
    "\n",
    "max_cost = max(make_a_list_from_column(\"charges\"))\n",
    "\n",
    "for line in insurance_data:\n",
    "    if float(line[\"charges\"]) == max_cost:\n",
    "        print(\"Here is the characteristic of the patient with the higher insurance cost: \\n{}\".format(line))\n"
   ]
  },
  {
   "cell_type": "markdown",
   "metadata": {},
   "source": [
    "Here was some example of how some characteristics can impact the insurance cost.\n",
    "It would be interesting to know how to predict what is the price increase if one of my characteristic change. \n",
    "For example if a patient quit smoking, how much will his or her insurance cost decrease ?"
   ]
  },
  {
   "cell_type": "markdown",
   "metadata": {},
   "source": [
    "## 4.3. Estimate the cost for a new patient\n",
    "\n",
    "From the data set, it might be posible to establish the model to calculate insurance charges.\n",
    "Linear regression can be used for that.\n",
    "\n",
    "Mathematically insurance cost would look like the following:\n",
    "$$Insurancecost(x_1, x_2, x_3, x_4, x_5, x_6) = a_0 + a_1*x_1 + a_2*x_2 + a_3*x_3 + a_4*x_4 + a_5*x_5 + a_6*x_6 $$\n",
    "\n",
    "Where $x_n$ are characteristics such as age, bmi, smoker... and $a_n$ the slopes to find out.\n",
    "\n"
   ]
  },
  {
   "cell_type": "markdown",
   "metadata": {},
   "source": [
    "*note of 05 june 2021 : apparently I need to learn more to perform this ;p - let's continue the course and come back later to this project*"
   ]
  }
 ],
 "metadata": {
  "kernelspec": {
   "display_name": "Python 3",
   "language": "python",
   "name": "python3"
  },
  "language_info": {
   "codemirror_mode": {
    "name": "ipython",
    "version": 3
   },
   "file_extension": ".py",
   "mimetype": "text/x-python",
   "name": "python",
   "nbconvert_exporter": "python",
   "pygments_lexer": "ipython3",
   "version": "3.8.8"
  }
 },
 "nbformat": 4,
 "nbformat_minor": 4
}
