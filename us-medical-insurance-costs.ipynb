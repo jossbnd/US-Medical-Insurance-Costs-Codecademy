{
 "cells": [
  {
   "cell_type": "markdown",
   "metadata": {},
   "source": [
    "# U.S. Medical Insurance Costs"
   ]
  },
  {
   "cell_type": "markdown",
   "metadata": {},
   "source": [
    "# 1. Introduction\n",
    "\n",
    "In this project, we will investigate a U.S. medical insurance dataset with learnings we have made through the Python Fundamentals course from Codecademy.\n",
    "\n",
    "The set of data is a .csv file made of 7 columns. 6 row gives characteristics of patient: age, sex, bmi, children, smoker, region and the seventh row their insurance cost.\n",
    "Informations are a mix of strings, integers or floats and for a total of 1338 patient."
   ]
  },
  {
   "cell_type": "markdown",
   "metadata": {},
   "source": [
    "# 2. Projects Goals\n",
    "\n",
    "There is no given goals or direction given in this exercise.\n",
    "We will propose to analyze the data through the 3 following topic:\n",
    "\n",
    "    1. Know your patient : analyze the characteristics themselves such as average age, region, average bmi etc...\n",
    "    2. Impact of certain characteristic on their Insurance Cost : how much more will pay a smoker, how age impact cost...\n",
    "    3. Estimate the cost for a new patient : from information we have, how can we estimate our own insurance cost\n",
    "    \n",
    "Of course, before analyze, we will start by import ans transform our data into Python objects."
   ]
  },
  {
   "cell_type": "markdown",
   "metadata": {},
   "source": [
    "# 3. Analysis\n",
    "## 0. Import and clean data\n",
    "\n",
    "We will first importing the data and save it into a List."
   ]
  },
  {
   "cell_type": "code",
   "execution_count": 6,
   "metadata": {},
   "outputs": [],
   "source": [
    "import csv\n",
    "\n",
    "with open(\"insurance.csv\") as insurance_csv:\n",
    "    insurance_data = []\n",
    "    insurance_reader = csv.DictReader(insurance_csv)\n",
    "    for row in insurance_reader:\n",
    "        insurance_data.append(row)\n"
   ]
  },
  {
   "cell_type": "markdown",
   "metadata": {},
   "source": [
    "insurance_data is a list of dict. \n",
    "Each element of the list is a line of my .csv describe through a dictionnary in which key are names of my column.\n",
    "Now, it is very easy to access data we need for our analysis.\n",
    "\n",
    "Here is an example:"
   ]
  },
  {
   "cell_type": "code",
   "execution_count": 9,
   "metadata": {},
   "outputs": [],
   "source": [
    "#example if we want to access all the ages and save them in a list.\n",
    "age_list = []\n",
    "for line in insurance_data:\n",
    "    age_list.append(line[\"age\"])\n"
   ]
  },
  {
   "cell_type": "markdown",
   "metadata": {},
   "source": [
    "Actually, this could be helpfull to have a function that put every value of a column of my .csv in a list."
   ]
  },
  {
   "cell_type": "code",
   "execution_count": 48,
   "metadata": {},
   "outputs": [
    {
     "name": "stdout",
     "output_type": "stream",
     "text": [
      "Here is the list of columns to use as parameter of our make_a_list_from_column: age,sex,bmi,children,smoker,region,charges\n",
      "\n"
     ]
    }
   ],
   "source": [
    "def make_a_list_from_column(name_of_column):\n",
    "    list_of_column_values = []\n",
    "    for line in insurance_data:\n",
    "#as we would like to have it in float if they are numbers, we will use try instruction\n",
    "        try:\n",
    "            list_of_column_values.append(float(line[name_of_column]))\n",
    "        except:\n",
    "            list_of_column_values.append(line[name_of_column])\n",
    "    return list_of_column_values\n",
    "\n",
    "#list of names of column available\n",
    "with open(\"insurance.csv\") as insurance_csv:\n",
    "    print(\"Here is the list of columns to use as parameter of our make_a_list_from_column: \" + insurance_csv.readline())"
   ]
  },
  {
   "cell_type": "markdown",
   "metadata": {},
   "source": [
    "Let's try our function:"
   ]
  },
  {
   "cell_type": "code",
   "execution_count": 49,
   "metadata": {},
   "outputs": [],
   "source": [
    "bmi_list = make_a_list_from_column(\"charges\")"
   ]
  },
  {
   "cell_type": "markdown",
   "metadata": {},
   "source": [
    "## 1. Know your patient\n",
    "\n",
    "So now we have imported and stored datas in variables that can be used for analysis, let's begin our analysis.\n",
    "\n",
    "We will start by have a look to the age of our patient:"
   ]
  },
  {
   "cell_type": "code",
   "execution_count": 75,
   "metadata": {},
   "outputs": [
    {
     "name": "stdout",
     "output_type": "stream",
     "text": [
      "The average age of our patients is: 39.2 years old.\n",
      "There are 574 patients between 18 and 35 years old and it represents 42.9% of our total of patient.\n"
     ]
    }
   ],
   "source": [
    "import statistics\n",
    "\n",
    "# average age of our patient\n",
    "age_list = make_a_list_from_column(\"age\")\n",
    "print(\"The average age of our patients is: {} years old.\".format(round(statistics.mean(age_list),1)))\n",
    "\n",
    "# function to know how many patient between 2 ages and what they represent on total\n",
    "def how_many_between(age_min, age_max):\n",
    "    age_count = 0\n",
    "    for age in age_list:\n",
    "        if age >= age_min and age <= age_max:\n",
    "            age_count += 1\n",
    "    percent = age_count / len(age_list) * 100\n",
    "    return \"There are {} patients between {} and {} years old and it represents {}% of our total of patient.\".format(age_count, age_min, age_max, round(percent,2))\n",
    "                                                                                                                     \n",
    "print(how_many_between(18, 35))\n"
   ]
  },
  {
   "cell_type": "markdown",
   "metadata": {},
   "source": [
    "It will be interested to know where they live as well."
   ]
  },
  {
   "cell_type": "code",
   "execution_count": 80,
   "metadata": {},
   "outputs": [
    {
     "name": "stdout",
     "output_type": "stream",
     "text": [
      "Here are the number of patient per region : {'northwest': 325, 'northeast': 324, 'southeast': 364, 'southwest': 325}\n"
     ]
    }
   ],
   "source": [
    "#we can store population per region in a dictionnary\n",
    "region_population = {\n",
    "    \"northwest\": 0,\n",
    "    \"northeast\": 0,\n",
    "    \"southeast\": 0,\n",
    "    \"southwest\": 0,\n",
    "    }\n",
    "\n",
    "for key in region_population.keys():\n",
    "    region_population[key] = make_a_list_from_column(\"region\").count(key)\n",
    "\n",
    "print(\"Here are the number of patient per region : {}\".format(region_population))\n"
   ]
  },
  {
   "cell_type": "markdown",
   "metadata": {},
   "source": [
    "We could continue to do the same with other parameters such as bmi, number of children but now we will have a look to how these parameters impact the charges."
   ]
  },
  {
   "cell_type": "markdown",
   "metadata": {},
   "source": [
    "## 2. Impact of patient characteristics on charges\n",
    "\n",
    "Now we will have a look on how certain charateristics impact the patient's medical insurance cost."
   ]
  },
  {
   "cell_type": "code",
   "execution_count": 93,
   "metadata": {},
   "outputs": [
    {
     "name": "stdout",
     "output_type": "stream",
     "text": [
      "The average insurance cost for smokers are : 32050.23 dollars\n",
      "The average insurance cost for non smokers are : 8434.27 dollars\n"
     ]
    }
   ],
   "source": [
    "#average cost for smokers versus non smokers\n",
    "costs_smokers = []\n",
    "costs_non_smokers = []\n",
    "\n",
    "for line in insurance_data:\n",
    "    if line[\"smoker\"] == \"yes\":\n",
    "        costs_smokers.append(float(line[\"charges\"]))\n",
    "    else: \n",
    "        costs_non_smokers.append(float((line[\"charges\"])))\n",
    "                                 \n",
    "print(\"The average insurance cost for smokers are : {} dollars\".format(round(statistics.mean(costs_smokers),2)))\n",
    "print(\"The average insurance cost for non smokers are : {} dollars\".format(round(statistics.mean(costs_non_smokers),2)))\n",
    "\n",
    "        \n"
   ]
  },
  {
   "cell_type": "markdown",
   "metadata": {},
   "source": [
    "Even if other parameters counted in this analaysis, it appears that smoking makes the insurance cost higher than non smoking.\n",
    "How about bmi ?"
   ]
  },
  {
   "cell_type": "code",
   "execution_count": 105,
   "metadata": {},
   "outputs": [
    {
     "name": "stdout",
     "output_type": "stream",
     "text": [
      "Average insurance cost of patient above 16 of bmi is 13279.1 dollars\n",
      "Average insurance cost of patient above 22 of bmi is 13606.7 dollars\n",
      "Average insurance cost of patient above 28 of bmi is 14642.5 dollars\n",
      "Average insurance cost of patient above 35 of bmi is 16953.8 dollars\n"
     ]
    }
   ],
   "source": [
    "# here is a function that calculate average charges for patient above a certain bmi\n",
    "def average_cost_above_bmi(bmi_min):\n",
    "    costs_at_bmi_min = []\n",
    "    for line in insurance_data:\n",
    "        if float(line[\"bmi\"]) >= bmi_min:\n",
    "            costs_at_bmi_min.append(float(line[\"charges\"]))\n",
    "    return \"Average insurance cost of patient above {} of bmi is {} dollars\".format(bmi_min, round(statistics.mean(costs_at_bmi_min), 1))\n",
    "\n",
    "print(average_cost_above_bmi(16))\n",
    "print(average_cost_above_bmi(22))\n",
    "print(average_cost_above_bmi(28))\n",
    "print(average_cost_above_bmi(35))\n"
   ]
  },
  {
   "cell_type": "markdown",
   "metadata": {},
   "source": [
    "The higher the bmi the higher the insurance cost but it sounds to be less impactful than smoking.\n",
    "We know now that smoking and having a high bmi can increase the cost. So probably our patient with the higher cost should be a smoker with a high bmi. What other characteristics could he have ?"
   ]
  },
  {
   "cell_type": "code",
   "execution_count": 120,
   "metadata": {},
   "outputs": [
    {
     "name": "stdout",
     "output_type": "stream",
     "text": [
      "Here is the characteristic of the patient with the higher insurance cost: \n",
      "{'age': '54', 'sex': 'female', 'bmi': '47.41', 'children': '0', 'smoker': 'yes', 'region': 'southeast', 'charges': '63770.42801'}\n"
     ]
    }
   ],
   "source": [
    "# find the patient with the higher cost and have a look to his/her characteristics\n",
    "\n",
    "max_cost = max(make_a_list_from_column(\"charges\"))\n",
    "\n",
    "for line in insurance_data:\n",
    "    if float(line[\"charges\"]) == max_cost:\n",
    "        print(\"Here is the characteristic of the patient with the higher insurance cost: \\n{}\".format(line))\n"
   ]
  },
  {
   "cell_type": "markdown",
   "metadata": {},
   "source": [
    "Here was some example of how some characteristics can impact the insurance cost.\n",
    "What would be interesting is to know how to predict what is the price increase if one of my characteristic change. For example if I quit smoking, how much do I earn from my insurance cost decrease ?"
   ]
  },
  {
   "cell_type": "markdown",
   "metadata": {},
   "source": [
    "## 3. Estimate the cost for a new patient\n",
    "\n",
    "From the data set, are we able to establish the model to calculate insurance charges ?\n",
    "Let's try by using linear regression.\n",
    "\n",
    "Mathematically insurance cost would look like the following:\n",
    "$$Insurancecost(x_1, x_2, x_3, x_4, x_6, x_7) = a_0 + a_1*x_1 + a_2*x_2 + a_3*x_3 + a_4*x_4 + a_5*x_5 + a_6*x_6 $$\n",
    "\n",
    "Where $x_n$ are my characteristics such as age, bmi, smoker... and $a_n$ the slopes I need to find out.\n",
    "\n"
   ]
  },
  {
   "cell_type": "markdown",
   "metadata": {},
   "source": [
    "*note of 05 june 2021 : apparently I need to learn more to perform this ;p, let's continue the course and come back later to this project*"
   ]
  }
 ],
 "metadata": {
  "kernelspec": {
   "display_name": "Python 3",
   "language": "python",
   "name": "python3"
  },
  "language_info": {
   "codemirror_mode": {
    "name": "ipython",
    "version": 3
   },
   "file_extension": ".py",
   "mimetype": "text/x-python",
   "name": "python",
   "nbconvert_exporter": "python",
   "pygments_lexer": "ipython3",
   "version": "3.8.8"
  }
 },
 "nbformat": 4,
 "nbformat_minor": 4
}
